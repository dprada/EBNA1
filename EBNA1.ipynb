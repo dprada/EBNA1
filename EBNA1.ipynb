{
 "cells": [
  {
   "cell_type": "code",
   "execution_count": 1,
   "metadata": {},
   "outputs": [],
   "source": [
    "%load_ext autoreload\n",
    "%autoreload 2"
   ]
  },
  {
   "cell_type": "code",
   "execution_count": 2,
   "metadata": {},
   "outputs": [
    {
     "name": "stderr",
     "output_type": "stream",
     "text": [
      "/home/diego/Myopt/Miniconda/miniconda3/envs/UIBCDF_lab_dev/lib/python3.7/site-packages/yank/experiment.py:1161: YAMLLoadWarning: calling yaml.load() without Loader=... is deprecated, as the default Loader is unsafe. Please read https://msg.pyyaml.org/load for full details.\n",
      "  \"\"\")\n"
     ]
    }
   ],
   "source": [
    "import sabueso as sab\n",
    "import molmodmt as m3t"
   ]
  },
  {
   "cell_type": "markdown",
   "metadata": {},
   "source": [
    "# Epstein-Barr nuclear antigen 1"
   ]
  },
  {
   "cell_type": "markdown",
   "metadata": {},
   "source": [
    "## Sabueso"
   ]
  },
  {
   "cell_type": "code",
   "execution_count": 14,
   "metadata": {},
   "outputs": [
    {
     "name": "stdout",
     "output_type": "stream",
     "text": [
      "[None, None, None, None, None, None, None, None, None, None, None, None, None, None, None, {'Id': '1B3T', 'Segment': [{'Begin': 461, 'End': 607, 'Length': 147, 'Chain': 'A', 'Entity': None}, {'Begin': 461, 'End': 607, 'Length': 147, 'Chain': 'B', 'Entity': None}]}, {'Id': '1VHI', 'Segment': [{'Begin': 466, 'End': 607, 'Length': 142, 'Chain': 'A', 'Entity': None}, {'Begin': 466, 'End': 607, 'Length': 142, 'Chain': 'B', 'Entity': None}]}, {'Id': '1YY6', 'Segment': [{'Begin': 441, 'End': 450, 'Length': 10, 'Chain': 'B', 'Entity': None}]}, {'Id': '2FYY', 'Segment': [{'Begin': 407, 'End': 417, 'Length': 11, 'Chain': 'C', 'Entity': None}]}, {'Id': '2FZ3', 'Segment': [{'Begin': 407, 'End': 417, 'Length': 11, 'Chain': 'C', 'Entity': None}]}, {'Id': '3MV7', 'Segment': [{'Begin': 407, 'End': 417, 'Length': 11, 'Chain': 'C', 'Entity': None}]}, {'Id': '3MV8', 'Segment': [{'Begin': 407, 'End': 417, 'Length': 11, 'Chain': 'C', 'Entity': None}]}, {'Id': '3MV9', 'Segment': [{'Begin': 407, 'End': 417, 'Length': 11, 'Chain': 'C', 'Entity': None}]}, {'Id': '4PRA', 'Segment': [{'Begin': 407, 'End': 417, 'Length': 11, 'Chain': 'C', 'Entity': None}]}, {'Id': '4PRE', 'Segment': [{'Begin': 407, 'End': 417, 'Length': 11, 'Chain': 'C', 'Entity': None}]}, {'Id': '4PRI', 'Segment': [{'Begin': 407, 'End': 417, 'Length': 11, 'Chain': 'C', 'Entity': None}]}, {'Id': '4PRP', 'Segment': [{'Begin': 407, 'End': 417, 'Length': 11, 'Chain': 'C', 'Entity': None}]}, {'Id': '5WMF', 'Segment': [{'Begin': 470, 'End': 619, 'Length': 150, 'Chain': 'A', 'Entity': None}, {'Begin': 470, 'End': 619, 'Length': 150, 'Chain': 'B', 'Entity': None}, {'Begin': 470, 'End': 619, 'Length': 150, 'Chain': 'C', 'Entity': None}, {'Begin': 470, 'End': 619, 'Length': 150, 'Chain': 'D', 'Entity': None}, {'Begin': 470, 'End': 619, 'Length': 150, 'Chain': 'E', 'Entity': None}, {'Begin': 470, 'End': 619, 'Length': 150, 'Chain': 'F', 'Entity': None}]}, {'Id': '5WUM', 'Segment': [{'Begin': 378, 'End': 386, 'Length': 9, 'Chain': 'B', 'Entity': None}, {'Begin': 378, 'End': 386, 'Length': 9, 'Chain': 'C', 'Entity': None}]}, {'Id': '5WUN', 'Segment': [{'Begin': 378, 'End': 386, 'Length': 9, 'Chain': 'B', 'Entity': None}, {'Begin': 378, 'End': 386, 'Length': 9, 'Chain': 'C', 'Entity': None}]}]\n"
     ]
    },
    {
     "ename": "TypeError",
     "evalue": "'NoneType' object is not subscriptable",
     "output_type": "error",
     "traceback": [
      "\u001b[0;31m---------------------------------------------------------------------------\u001b[0m",
      "\u001b[0;31mTypeError\u001b[0m                                 Traceback (most recent call last)",
      "\u001b[0;32m<ipython-input-14-a694537baf85>\u001b[0m in \u001b[0;36m<module>\u001b[0;34m\u001b[0m\n\u001b[0;32m----> 1\u001b[0;31m \u001b[0mresult_query\u001b[0m \u001b[0;34m=\u001b[0m \u001b[0msab\u001b[0m\u001b[0;34m.\u001b[0m\u001b[0mquery_target\u001b[0m\u001b[0;34m(\u001b[0m\u001b[0;34m\"EBNA1\"\u001b[0m\u001b[0;34m)\u001b[0m\u001b[0;34m\u001b[0m\u001b[0;34m\u001b[0m\u001b[0m\n\u001b[0m",
      "\u001b[0;32m~/Trabajo/Proyectos/Sabueso/sabueso/query.py\u001b[0m in \u001b[0;36mtarget\u001b[0;34m(string, organism)\u001b[0m\n\u001b[1;32m     10\u001b[0m \u001b[0;34m\u001b[0m\u001b[0m\n\u001b[1;32m     11\u001b[0m     \u001b[0mtmp_query_all\u001b[0m \u001b[0;34m=\u001b[0m \u001b[0mtmp_query_ChEMBL\u001b[0m \u001b[0;34m+\u001b[0m \u001b[0mtmp_query_UniProt\u001b[0m\u001b[0;34m\u001b[0m\u001b[0;34m\u001b[0m\u001b[0m\n\u001b[0;32m---> 12\u001b[0;31m     \u001b[0mtmp_query_all\u001b[0m \u001b[0;34m=\u001b[0m \u001b[0mprotein_cards_depuration\u001b[0m\u001b[0;34m(\u001b[0m\u001b[0mtmp_query_all\u001b[0m\u001b[0;34m)\u001b[0m\u001b[0;34m\u001b[0m\u001b[0;34m\u001b[0m\u001b[0m\n\u001b[0m\u001b[1;32m     13\u001b[0m \u001b[0;34m\u001b[0m\u001b[0m\n\u001b[1;32m     14\u001b[0m     \u001b[0;32mreturn\u001b[0m  \u001b[0mtmp_query_all\u001b[0m\u001b[0;34m\u001b[0m\u001b[0;34m\u001b[0m\u001b[0m\n",
      "\u001b[0;32m~/Trabajo/Proyectos/Sabueso/sabueso/fields/protein.py\u001b[0m in \u001b[0;36mprotein_cards_depuration\u001b[0;34m(cards)\u001b[0m\n\u001b[1;32m    209\u001b[0m \u001b[0;32mdef\u001b[0m \u001b[0mprotein_cards_depuration\u001b[0m\u001b[0;34m(\u001b[0m\u001b[0mcards\u001b[0m\u001b[0;34m=\u001b[0m\u001b[0;32mNone\u001b[0m\u001b[0;34m)\u001b[0m\u001b[0;34m:\u001b[0m\u001b[0;34m\u001b[0m\u001b[0;34m\u001b[0m\u001b[0m\n\u001b[1;32m    210\u001b[0m \u001b[0;34m\u001b[0m\u001b[0m\n\u001b[0;32m--> 211\u001b[0;31m     \u001b[0;32mreturn\u001b[0m \u001b[0m_aux_cards_depuration\u001b[0m\u001b[0;34m(\u001b[0m\u001b[0mcards\u001b[0m\u001b[0;34m,\u001b[0m\u001b[0mequal_protein_cards\u001b[0m\u001b[0;34m,\u001b[0m\u001b[0mmerge_protein_cards\u001b[0m\u001b[0;34m)\u001b[0m\u001b[0;34m\u001b[0m\u001b[0;34m\u001b[0m\u001b[0m\n\u001b[0m\u001b[1;32m    212\u001b[0m \u001b[0;34m\u001b[0m\u001b[0m\n\u001b[1;32m    213\u001b[0m \u001b[0;32mdef\u001b[0m \u001b[0m_aux_cards_depuration\u001b[0m\u001b[0;34m(\u001b[0m\u001b[0mcards\u001b[0m\u001b[0;34m,\u001b[0m\u001b[0mmethod_equal\u001b[0m\u001b[0;34m,\u001b[0m\u001b[0mmethod_merge\u001b[0m\u001b[0;34m)\u001b[0m\u001b[0;34m:\u001b[0m\u001b[0;34m\u001b[0m\u001b[0;34m\u001b[0m\u001b[0m\n",
      "\u001b[0;32m~/Trabajo/Proyectos/Sabueso/sabueso/fields/protein.py\u001b[0m in \u001b[0;36m_aux_cards_depuration\u001b[0;34m(cards, method_equal, method_merge)\u001b[0m\n\u001b[1;32m    240\u001b[0m \u001b[0;34m\u001b[0m\u001b[0m\n\u001b[1;32m    241\u001b[0m     \u001b[0;32mfor\u001b[0m \u001b[0mii\u001b[0m \u001b[0;32min\u001b[0m \u001b[0mpairs_equal\u001b[0m\u001b[0;34m:\u001b[0m\u001b[0;34m\u001b[0m\u001b[0;34m\u001b[0m\u001b[0m\n\u001b[0;32m--> 242\u001b[0;31m         \u001b[0mlist_depurated\u001b[0m\u001b[0;34m.\u001b[0m\u001b[0mappend\u001b[0m\u001b[0;34m(\u001b[0m\u001b[0mmethod_merge\u001b[0m\u001b[0;34m(\u001b[0m\u001b[0;34m[\u001b[0m\u001b[0mcards\u001b[0m\u001b[0;34m[\u001b[0m\u001b[0mjj\u001b[0m\u001b[0;34m]\u001b[0m \u001b[0;32mfor\u001b[0m \u001b[0mjj\u001b[0m \u001b[0;32min\u001b[0m \u001b[0mii\u001b[0m\u001b[0;34m]\u001b[0m\u001b[0;34m)\u001b[0m\u001b[0;34m)\u001b[0m\u001b[0;34m\u001b[0m\u001b[0;34m\u001b[0m\u001b[0m\n\u001b[0m\u001b[1;32m    243\u001b[0m \u001b[0;34m\u001b[0m\u001b[0m\n\u001b[1;32m    244\u001b[0m     \u001b[0mflat_pairs_equal\u001b[0m \u001b[0;34m=\u001b[0m \u001b[0;34m[\u001b[0m\u001b[0mitem\u001b[0m \u001b[0;32mfor\u001b[0m \u001b[0msublist\u001b[0m \u001b[0;32min\u001b[0m \u001b[0mpairs_equal\u001b[0m \u001b[0;32mfor\u001b[0m \u001b[0mitem\u001b[0m \u001b[0;32min\u001b[0m \u001b[0msublist\u001b[0m\u001b[0;34m]\u001b[0m\u001b[0;34m\u001b[0m\u001b[0;34m\u001b[0m\u001b[0m\n",
      "\u001b[0;32m~/Trabajo/Proyectos/Sabueso/sabueso/fields/protein.py\u001b[0m in \u001b[0;36mmerge_protein_cards\u001b[0;34m(cards)\u001b[0m\n\u001b[1;32m    191\u001b[0m         \u001b[0;32mfor\u001b[0m \u001b[0mpdb_id\u001b[0m \u001b[0;32min\u001b[0m \u001b[0mcard\u001b[0m\u001b[0;34m[\u001b[0m\u001b[0;34m'in PDB'\u001b[0m\u001b[0;34m]\u001b[0m\u001b[0;34m:\u001b[0m\u001b[0;34m\u001b[0m\u001b[0;34m\u001b[0m\u001b[0m\n\u001b[1;32m    192\u001b[0m             \u001b[0min_PDB_cards\u001b[0m\u001b[0;34m.\u001b[0m\u001b[0mappend\u001b[0m\u001b[0;34m(\u001b[0m\u001b[0mcard\u001b[0m\u001b[0;34m[\u001b[0m\u001b[0;34m'in PDB'\u001b[0m\u001b[0;34m]\u001b[0m\u001b[0;34m[\u001b[0m\u001b[0mpdb_id\u001b[0m\u001b[0;34m]\u001b[0m\u001b[0;34m)\u001b[0m\u001b[0;34m\u001b[0m\u001b[0;34m\u001b[0m\u001b[0m\n\u001b[0;32m--> 193\u001b[0;31m     \u001b[0;32mfor\u001b[0m \u001b[0mii\u001b[0m \u001b[0;32min\u001b[0m \u001b[0min_pdb_cards_depuration\u001b[0m\u001b[0;34m(\u001b[0m\u001b[0min_PDB_cards\u001b[0m\u001b[0;34m)\u001b[0m\u001b[0;34m:\u001b[0m\u001b[0;34m\u001b[0m\u001b[0;34m\u001b[0m\u001b[0m\n\u001b[0m\u001b[1;32m    194\u001b[0m         \u001b[0mtmp_card\u001b[0m\u001b[0;34m[\u001b[0m\u001b[0;34m'in PDB'\u001b[0m\u001b[0;34m]\u001b[0m\u001b[0;34m[\u001b[0m\u001b[0mii\u001b[0m\u001b[0;34m[\u001b[0m\u001b[0;34m'Id'\u001b[0m\u001b[0;34m]\u001b[0m\u001b[0;34m]\u001b[0m\u001b[0;34m=\u001b[0m\u001b[0mii\u001b[0m\u001b[0;34m\u001b[0m\u001b[0;34m\u001b[0m\u001b[0m\n\u001b[1;32m    195\u001b[0m \u001b[0;34m\u001b[0m\u001b[0m\n",
      "\u001b[0;32m~/Trabajo/Proyectos/Sabueso/sabueso/fields/protein.py\u001b[0m in \u001b[0;36min_pdb_cards_depuration\u001b[0;34m(cards)\u001b[0m\n\u001b[1;32m    164\u001b[0m \u001b[0;32mdef\u001b[0m \u001b[0min_pdb_cards_depuration\u001b[0m\u001b[0;34m(\u001b[0m\u001b[0mcards\u001b[0m\u001b[0;34m=\u001b[0m\u001b[0;32mNone\u001b[0m\u001b[0;34m)\u001b[0m\u001b[0;34m:\u001b[0m\u001b[0;34m\u001b[0m\u001b[0;34m\u001b[0m\u001b[0m\n\u001b[1;32m    165\u001b[0m     \u001b[0mprint\u001b[0m\u001b[0;34m(\u001b[0m\u001b[0mcards\u001b[0m\u001b[0;34m)\u001b[0m\u001b[0;34m\u001b[0m\u001b[0;34m\u001b[0m\u001b[0m\n\u001b[0;32m--> 166\u001b[0;31m     \u001b[0;32mreturn\u001b[0m \u001b[0m_aux_cards_depuration\u001b[0m\u001b[0;34m(\u001b[0m\u001b[0mcards\u001b[0m\u001b[0;34m,\u001b[0m\u001b[0mequal_in_pdb_cards\u001b[0m\u001b[0;34m,\u001b[0m\u001b[0mmerge_in_pdb_cards\u001b[0m\u001b[0;34m)\u001b[0m\u001b[0;34m\u001b[0m\u001b[0;34m\u001b[0m\u001b[0m\n\u001b[0m\u001b[1;32m    167\u001b[0m \u001b[0;34m\u001b[0m\u001b[0m\n\u001b[1;32m    168\u001b[0m \u001b[0;32mdef\u001b[0m \u001b[0mmerge_protein_cards\u001b[0m\u001b[0;34m(\u001b[0m\u001b[0mcards\u001b[0m\u001b[0;34m=\u001b[0m\u001b[0;32mNone\u001b[0m\u001b[0;34m)\u001b[0m\u001b[0;34m:\u001b[0m\u001b[0;34m\u001b[0m\u001b[0;34m\u001b[0m\u001b[0m\n",
      "\u001b[0;32m~/Trabajo/Proyectos/Sabueso/sabueso/fields/protein.py\u001b[0m in \u001b[0;36m_aux_cards_depuration\u001b[0;34m(cards, method_equal, method_merge)\u001b[0m\n\u001b[1;32m    217\u001b[0m     \u001b[0;32mfor\u001b[0m \u001b[0mii\u001b[0m \u001b[0;32min\u001b[0m \u001b[0mrange\u001b[0m\u001b[0;34m(\u001b[0m\u001b[0mnum_cards\u001b[0m\u001b[0;34m)\u001b[0m\u001b[0;34m:\u001b[0m\u001b[0;34m\u001b[0m\u001b[0;34m\u001b[0m\u001b[0m\n\u001b[1;32m    218\u001b[0m         \u001b[0;32mfor\u001b[0m \u001b[0mjj\u001b[0m \u001b[0;32min\u001b[0m \u001b[0mrange\u001b[0m\u001b[0;34m(\u001b[0m\u001b[0mii\u001b[0m\u001b[0;34m+\u001b[0m\u001b[0;36m1\u001b[0m\u001b[0;34m,\u001b[0m\u001b[0mnum_cards\u001b[0m\u001b[0;34m)\u001b[0m\u001b[0;34m:\u001b[0m\u001b[0;34m\u001b[0m\u001b[0;34m\u001b[0m\u001b[0m\n\u001b[0;32m--> 219\u001b[0;31m             \u001b[0;32mif\u001b[0m \u001b[0mmethod_equal\u001b[0m\u001b[0;34m(\u001b[0m\u001b[0mcards\u001b[0m\u001b[0;34m[\u001b[0m\u001b[0mii\u001b[0m\u001b[0;34m]\u001b[0m\u001b[0;34m,\u001b[0m\u001b[0mcards\u001b[0m\u001b[0;34m[\u001b[0m\u001b[0mjj\u001b[0m\u001b[0;34m]\u001b[0m\u001b[0;34m)\u001b[0m\u001b[0;34m:\u001b[0m\u001b[0;34m\u001b[0m\u001b[0;34m\u001b[0m\u001b[0m\n\u001b[0m\u001b[1;32m    220\u001b[0m                 \u001b[0mpairs_equal\u001b[0m\u001b[0;34m.\u001b[0m\u001b[0mappend\u001b[0m\u001b[0;34m(\u001b[0m\u001b[0;34m[\u001b[0m\u001b[0mii\u001b[0m\u001b[0;34m,\u001b[0m\u001b[0mjj\u001b[0m\u001b[0;34m]\u001b[0m\u001b[0;34m)\u001b[0m\u001b[0;34m\u001b[0m\u001b[0;34m\u001b[0m\u001b[0m\n\u001b[1;32m    221\u001b[0m \u001b[0;34m\u001b[0m\u001b[0m\n",
      "\u001b[0;32m~/Trabajo/Proyectos/Sabueso/sabueso/fields/protein.py\u001b[0m in \u001b[0;36mequal_in_pdb_cards\u001b[0;34m(card1, card2)\u001b[0m\n\u001b[1;32m    160\u001b[0m \u001b[0;34m\u001b[0m\u001b[0m\n\u001b[1;32m    161\u001b[0m \u001b[0;32mdef\u001b[0m \u001b[0mequal_in_pdb_cards\u001b[0m\u001b[0;34m(\u001b[0m\u001b[0mcard1\u001b[0m\u001b[0;34m=\u001b[0m\u001b[0;32mNone\u001b[0m\u001b[0;34m,\u001b[0m\u001b[0mcard2\u001b[0m\u001b[0;34m=\u001b[0m\u001b[0;32mNone\u001b[0m\u001b[0;34m)\u001b[0m\u001b[0;34m:\u001b[0m\u001b[0;34m\u001b[0m\u001b[0;34m\u001b[0m\u001b[0m\n\u001b[0;32m--> 162\u001b[0;31m     \u001b[0;32mreturn\u001b[0m \u001b[0mcard1\u001b[0m\u001b[0;34m[\u001b[0m\u001b[0;34m'Id'\u001b[0m\u001b[0;34m]\u001b[0m\u001b[0;34m==\u001b[0m\u001b[0mcard2\u001b[0m\u001b[0;34m[\u001b[0m\u001b[0;34m'Id'\u001b[0m\u001b[0;34m]\u001b[0m\u001b[0;34m\u001b[0m\u001b[0;34m\u001b[0m\u001b[0m\n\u001b[0m\u001b[1;32m    163\u001b[0m \u001b[0;34m\u001b[0m\u001b[0m\n\u001b[1;32m    164\u001b[0m \u001b[0;32mdef\u001b[0m \u001b[0min_pdb_cards_depuration\u001b[0m\u001b[0;34m(\u001b[0m\u001b[0mcards\u001b[0m\u001b[0;34m=\u001b[0m\u001b[0;32mNone\u001b[0m\u001b[0;34m)\u001b[0m\u001b[0;34m:\u001b[0m\u001b[0;34m\u001b[0m\u001b[0;34m\u001b[0m\u001b[0m\n",
      "\u001b[0;31mTypeError\u001b[0m: 'NoneType' object is not subscriptable"
     ]
    }
   ],
   "source": [
    "result_query = sab.query_target(\"EBNA1\")"
   ]
  },
  {
   "cell_type": "code",
   "execution_count": null,
   "metadata": {},
   "outputs": [],
   "source": [
    "get"
   ]
  },
  {
   "cell_type": "code",
   "execution_count": null,
   "metadata": {},
   "outputs": [],
   "source": [
    "sab.pretty_print(result_query)"
   ]
  },
  {
   "cell_type": "markdown",
   "metadata": {},
   "source": [
    "Las opciones 0 [Q777E1, P03211], 3 [Q3KSS4] y 4 [Q1HVF7] contienen información relativa a EBNA1. La opción 0 es la referencia directa de UniProt a EBNA1. Las opciones 3 y 4 parecen complejos de EBNA1 con otras proteinas."
   ]
  },
  {
   "cell_type": "markdown",
   "metadata": {},
   "source": [
    "### PDBs de UniProt Q3KSS4"
   ]
  },
  {
   "cell_type": "code",
   "execution_count": null,
   "metadata": {},
   "outputs": [],
   "source": [
    "result_query[3]['UniProt']"
   ]
  },
  {
   "cell_type": "code",
   "execution_count": null,
   "metadata": {},
   "outputs": [],
   "source": [
    "pdb_results = []\n",
    "for pdb in result_query[3]['PDBs']:\n",
    "    pdb_results.append(sab.PDB(pdb))"
   ]
  },
  {
   "cell_type": "code",
   "execution_count": null,
   "metadata": {},
   "outputs": [],
   "source": [
    "for pdb_result in pdb_results:\n",
    "    pdb_result.info()"
   ]
  },
  {
   "cell_type": "markdown",
   "metadata": {},
   "source": [
    "### PDBs de UniProt Q1HVF7"
   ]
  },
  {
   "cell_type": "code",
   "execution_count": null,
   "metadata": {},
   "outputs": [],
   "source": [
    "result_query[4]['UniProt']"
   ]
  },
  {
   "cell_type": "code",
   "execution_count": null,
   "metadata": {},
   "outputs": [],
   "source": [
    "pdb_results = []\n",
    "for pdb in result_query[4]['PDBs']:\n",
    "    pdb_results.append(sab.PDB(pdb))"
   ]
  },
  {
   "cell_type": "code",
   "execution_count": null,
   "metadata": {},
   "outputs": [],
   "source": [
    "for pdb_result in pdb_results:\n",
    "    pdb_result.info()"
   ]
  },
  {
   "cell_type": "markdown",
   "metadata": {},
   "source": [
    "### PDBs de UniProt P03211"
   ]
  },
  {
   "cell_type": "code",
   "execution_count": null,
   "metadata": {},
   "outputs": [],
   "source": [
    "result_query[0]['UniProt']"
   ]
  },
  {
   "cell_type": "code",
   "execution_count": null,
   "metadata": {},
   "outputs": [],
   "source": [
    "pdb_results = []\n",
    "for pdb in result_query[0]['PDBs']:\n",
    "    pdb_results.append(sab.PDB(pdb))"
   ]
  },
  {
   "cell_type": "code",
   "execution_count": null,
   "metadata": {},
   "outputs": [],
   "source": [
    "for pdb_result in pdb_results:\n",
    "    pdb_result.info()"
   ]
  },
  {
   "cell_type": "markdown",
   "metadata": {},
   "source": [
    "## EBNA1 can be located with the UniProt code P03211"
   ]
  },
  {
   "cell_type": "code",
   "execution_count": null,
   "metadata": {},
   "outputs": [],
   "source": [
    "EBNA1 = sab.Protein('P03211')"
   ]
  },
  {
   "cell_type": "code",
   "execution_count": null,
   "metadata": {},
   "outputs": [],
   "source": [
    "EBNA1.card['PDBs'].keys()"
   ]
  },
  {
   "cell_type": "markdown",
   "metadata": {},
   "source": [
    "Hemos localizado en la inspección anterior que en esta lista falta un pdb: 5T7X"
   ]
  },
  {
   "cell_type": "code",
   "execution_count": null,
   "metadata": {},
   "outputs": [],
   "source": [
    "EBNA1.card['PDBs']['4PRE']"
   ]
  },
  {
   "cell_type": "markdown",
   "metadata": {},
   "source": [
    "## Function\n",
    "Plays an essential role in replication and partitioning of viral genomic DNA during latent viral infection. During this phase, the circular double-stranded viral DNA undergoes replication once per cell cycle and is efficiently partitioned to the daughter cells. EBNA1 activates the initiation of viral DNA replication through binding to specific sites in the viral latent origin of replication, oriP. Additionally, it governs the segregation of viral episomes by mediating their attachment to host cell metaphase chromosomes. Also activates the transcription of several viral latency genes. Finally, it can counteract the stabilization of host p53/TP53 by host USP7, thereby decreasing apoptosis and increasing host cell survival.\n"
   ]
  },
  {
   "cell_type": "code",
   "execution_count": null,
   "metadata": {},
   "outputs": [],
   "source": []
  },
  {
   "cell_type": "code",
   "execution_count": null,
   "metadata": {},
   "outputs": [],
   "source": []
  },
  {
   "cell_type": "markdown",
   "metadata": {},
   "source": [
    "## Structures"
   ]
  },
  {
   "cell_type": "code",
   "execution_count": null,
   "metadata": {},
   "outputs": [],
   "source": [
    "PDBs = ['1B3T', '1VHI', '1YY6', '2FYY', '2FZ3', '3MV7', '3MV8', '3MV9', '4PRA', '4PRE', '4PRI', '4PRP', '5WMF', '5WUM', '5WUN']"
   ]
  },
  {
   "cell_type": "code",
   "execution_count": null,
   "metadata": {},
   "outputs": [],
   "source": [
    "list(set.union(set('nada'),set([None])))"
   ]
  },
  {
   "cell_type": "code",
   "execution_count": null,
   "metadata": {},
   "outputs": [],
   "source": [
    "import urllib as _urllib\n",
    "import json as _json\n",
    "\n",
    "\n",
    "url = 'https://www.ebi.ac.uk/pdbe/api/pdb/entry/ligand_monomers/4PR5'\n",
    "request = _urllib.request.Request(url)\n",
    "try:\n",
    "    response = _urllib.request.urlopen(request)\n",
    "    response_txt = response.read().decode('utf-8')\n",
    "    ligand_api_dict = _json.loads(response_txt)\n",
    "    pdbid = list(ligand_api_dict.keys())[0]\n",
    "except:\n",
    "    pass"
   ]
  },
  {
   "cell_type": "code",
   "execution_count": null,
   "metadata": {},
   "outputs": [],
   "source": [
    "ligand_api_dict"
   ]
  },
  {
   "cell_type": "code",
   "execution_count": null,
   "metadata": {},
   "outputs": [],
   "source": [
    "import mmtf"
   ]
  },
  {
   "cell_type": "code",
   "execution_count": null,
   "metadata": {},
   "outputs": [],
   "source": [
    "mmtf_pdb = mmtf.fetch('5T7X')"
   ]
  },
  {
   "cell_type": "code",
   "execution_count": null,
   "metadata": {},
   "outputs": [],
   "source": [
    "mmtf_pdb.chain_name_list"
   ]
  },
  {
   "cell_type": "code",
   "execution_count": null,
   "metadata": {},
   "outputs": [],
   "source": []
  }
 ],
 "metadata": {
  "kernelspec": {
   "display_name": "Python 3",
   "language": "python",
   "name": "python3"
  },
  "language_info": {
   "codemirror_mode": {
    "name": "ipython",
    "version": 3
   },
   "file_extension": ".py",
   "mimetype": "text/x-python",
   "name": "python",
   "nbconvert_exporter": "python",
   "pygments_lexer": "ipython3",
   "version": "3.7.3"
  }
 },
 "nbformat": 4,
 "nbformat_minor": 2
}
