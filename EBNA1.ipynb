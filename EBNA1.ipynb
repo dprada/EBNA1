{
 "cells": [
  {
   "cell_type": "markdown",
   "metadata": {},
   "source": [
    "# Epstein-Barr nuclear antigen 1"
   ]
  },
  {
   "cell_type": "markdown",
   "metadata": {},
   "source": [
    "## Function\n",
    "Plays an essential role in replication and partitioning of viral genomic DNA during latent viral infection. During this phase, the circular double-stranded viral DNA undergoes replication once per cell cycle and is efficiently partitioned to the daughter cells. EBNA1 activates the initiation of viral DNA replication through binding to specific sites in the viral latent origin of replication, oriP. Additionally, it governs the segregation of viral episomes by mediating their attachment to host cell metaphase chromosomes. Also activates the transcription of several viral latency genes. Finally, it can counteract the stabilization of host p53/TP53 by host USP7, thereby decreasing apoptosis and increasing host cell survival.\n"
   ]
  },
  {
   "cell_type": "markdown",
   "metadata": {},
   "source": [
    "## Structures"
   ]
  },
  {
   "cell_type": "code",
   "execution_count": 2,
   "metadata": {},
   "outputs": [],
   "source": [
    "PDBs = ['1B3T', '1VHI', '1YY6', '2FYY', '2FZ3', '3MV7', '3MV8', '3MV9', '4PRA', '4PRE', '4PRI', '4PRP', '5WMF', '5WUM', '5WUN']"
   ]
  },
  {
   "cell_type": "code",
   "execution_count": null,
   "metadata": {},
   "outputs": [],
   "source": []
  }
 ],
 "metadata": {
  "kernelspec": {
   "display_name": "Python 3",
   "language": "python",
   "name": "python3"
  },
  "language_info": {
   "codemirror_mode": {
    "name": "ipython",
    "version": 3
   },
   "file_extension": ".py",
   "mimetype": "text/x-python",
   "name": "python",
   "nbconvert_exporter": "python",
   "pygments_lexer": "ipython3",
   "version": "3.6.7"
  }
 },
 "nbformat": 4,
 "nbformat_minor": 2
}
